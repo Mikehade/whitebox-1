{
 "cells": [
  {
   "cell_type": "code",
   "execution_count": 2,
   "metadata": {},
   "outputs": [
    {
     "name": "stdout",
     "output_type": "stream",
     "text": [
      "/Users/nikosntampakis/Desktop/Git Hub/whitebox\n"
     ]
    }
   ],
   "source": [
    "cd ../.."
   ]
  },
  {
   "cell_type": "code",
   "execution_count": 20,
   "metadata": {},
   "outputs": [],
   "source": [
    "from whitebox.sdk.whitebox import Whitebox\n",
    "wb = Whitebox(host=\"http://127.0.0.1:8000\", api_key=\"ca7df06f72f82f5e4bec3926209b5d12bdf168941e33531b302ae9b0c9710975\")"
   ]
  },
  {
   "cell_type": "code",
   "execution_count": 1,
   "metadata": {},
   "outputs": [],
   "source": [
    "from sklearn.datasets import load_iris\n",
    "import pandas as pd\n",
    "from plot_functions import *\n",
    "import seaborn as sns"
   ]
  },
  {
   "cell_type": "code",
   "execution_count": 184,
   "metadata": {},
   "outputs": [],
   "source": [
    "df_tp = load_iris()\n",
    "df = pd.DataFrame(df_tp.data, columns=df_tp.feature_names)\n",
    "df[\"target\"] = df_tp.target"
   ]
  },
  {
   "cell_type": "code",
   "execution_count": 24,
   "metadata": {},
   "outputs": [],
   "source": [
    "df = df.sample(frac = 1)\n",
    "\n",
    "training_dataset=df.head(120)\n",
    "inference_dataset_1=df.iloc[120:130]\n",
    "inference_dataset_2=df.iloc[130:140]\n",
    "inference_dataset_3=df.iloc[140:150]"
   ]
  },
  {
   "cell_type": "code",
   "execution_count": 61,
   "metadata": {},
   "outputs": [
    {
     "data": {
      "text/plain": [
       "{'id': '83539c2b-579f-4a2c-b7ba-02d31c9408d8',\n",
       " 'created_at': '2023-02-09T14:30:13.787193',\n",
       " 'updated_at': '2023-02-09T14:30:13.787193',\n",
       " 'name': 'IrMod',\n",
       " 'description': '',\n",
       " 'type': 'multi_class',\n",
       " 'features': {'sepal length (cm)': 'numerical',\n",
       "  'sepal width (cm)': 'numerical',\n",
       "  'petal length (cm)': 'numerical',\n",
       "  'petal width (cm)': 'numerical'},\n",
       " 'prediction': 'target',\n",
       " 'probability': 'proba',\n",
       " 'labels': {'Iris-Setosa': 0, 'Iris-Versicolour': 1, 'Iris-Virginica': 2}}"
      ]
     },
     "execution_count": 61,
     "metadata": {},
     "output_type": "execute_result"
    }
   ],
   "source": [
    "wb.create_model(\n",
    "    name=\"IrMod\",\n",
    "    type=\"multi_class\",\n",
    "    features={\n",
    "        'sepal length (cm)': 'numerical',\n",
    "        'sepal width (cm)': 'numerical',\n",
    "        'petal length (cm)': 'numerical',\n",
    "        'petal width (cm)': 'numerical'\n",
    "    },\n",
    "    labels={\n",
    "        'Iris-Setosa': 0,\n",
    "        'Iris-Versicolour': 1,\n",
    "        'Iris-Virginica': 2\n",
    "    },\n",
    "    prediction=\"target\",\n",
    "    probability=\"proba\"\n",
    ")"
   ]
  },
  {
   "cell_type": "code",
   "execution_count": 62,
   "metadata": {},
   "outputs": [
    {
     "data": {
      "text/plain": [
       "True"
      ]
     },
     "execution_count": 62,
     "metadata": {},
     "output_type": "execute_result"
    }
   ],
   "source": [
    "non_processed_df = training_dataset\n",
    "processed_df = training_dataset\n",
    "\n",
    "wb.log_training_dataset(\n",
    "    model_id='83539c2b-579f-4a2c-b7ba-02d31c9408d8',\n",
    "    non_processed=non_processed_df,\n",
    "    processed=processed_df\n",
    ")"
   ]
  },
  {
   "cell_type": "code",
   "execution_count": 63,
   "metadata": {},
   "outputs": [
    {
     "data": {
      "text/plain": [
       "True"
      ]
     },
     "execution_count": 63,
     "metadata": {},
     "output_type": "execute_result"
    }
   ],
   "source": [
    "\n",
    "timestamps = pd.Series([\"2022-12-22\"] * 10)\n",
    "actuals = pd.Series([1, 1, 0, 2, 1, 1, 2, 2, 2, 1])\n",
    "\n",
    "wb.log_inferences(\n",
    "    model_id='83539c2b-579f-4a2c-b7ba-02d31c9408d8',\n",
    "    non_processed=inference_dataset_1,\n",
    "    processed=inference_dataset_1,\n",
    "    timestamps=timestamps,\n",
    "    actuals=actuals\n",
    ")"
   ]
  },
  {
   "cell_type": "code",
   "execution_count": 64,
   "metadata": {},
   "outputs": [
    {
     "data": {
      "text/plain": [
       "True"
      ]
     },
     "execution_count": 64,
     "metadata": {},
     "output_type": "execute_result"
    }
   ],
   "source": [
    "timestamps = pd.Series([\"2022-12-23\"] * 10)\n",
    "actuals = pd.Series([2, 1, 1, 1, 1, 2, 2, 2, 0, 2])\n",
    "\n",
    "wb.log_inferences(\n",
    "    model_id='83539c2b-579f-4a2c-b7ba-02d31c9408d8',\n",
    "    non_processed=inference_dataset_2,\n",
    "    processed=inference_dataset_2,\n",
    "    timestamps=timestamps,\n",
    "    actuals=actuals\n",
    ")"
   ]
  },
  {
   "cell_type": "code",
   "execution_count": 65,
   "metadata": {},
   "outputs": [
    {
     "data": {
      "text/plain": [
       "True"
      ]
     },
     "execution_count": 65,
     "metadata": {},
     "output_type": "execute_result"
    }
   ],
   "source": [
    "timestamps = pd.Series([\"2022-12-24\"] * 10)\n",
    "actuals = pd.Series([1, 1, 1, 1, 1, 1, 1, 1, 2, 2])\n",
    "\n",
    "wb.log_inferences(\n",
    "    model_id='83539c2b-579f-4a2c-b7ba-02d31c9408d8',\n",
    "    non_processed=inference_dataset_3,\n",
    "    processed=inference_dataset_3,\n",
    "    timestamps=timestamps,\n",
    "    actuals=actuals\n",
    ")"
   ]
  },
  {
   "cell_type": "code",
   "execution_count": 6,
   "metadata": {},
   "outputs": [],
   "source": [
    "import json\n",
    "\n",
    "with open('descriptive.json', 'r') as openfile:\n",
    "    descriptive_report = json.load(openfile)\n",
    "\n",
    "with open('drift.json', 'r') as openfile:\n",
    "    drift_report = json.load(openfile)\n",
    "\n",
    "with open('performance.json', 'r') as openfile:\n",
    "    performance_report = json.load(openfile)"
   ]
  },
  {
   "cell_type": "markdown",
   "metadata": {},
   "source": [
    "# Descriptive statistics"
   ]
  },
  {
   "cell_type": "code",
   "execution_count": 98,
   "metadata": {},
   "outputs": [
    {
     "data": {
      "text/plain": [
       "[{'id': '99d7c601-925b-4d58-96b3-8bca2bbdff19',\n",
       "  'created_at': '2023-02-09T14:33:00.483453',\n",
       "  'updated_at': '2023-02-09T14:33:00.483453',\n",
       "  'model_id': '83539c2b-579f-4a2c-b7ba-02d31c9408d8',\n",
       "  'timestamp': '2022-12-22T00:00:00',\n",
       "  'feature_metrics': {'missing_count': {'sepal length (cm)': 0,\n",
       "    'sepal width (cm)': 0,\n",
       "    'petal length (cm)': 0,\n",
       "    'petal width (cm)': 0,\n",
       "    'target': 0},\n",
       "   'non_missing_count': {'sepal length (cm)': 10,\n",
       "    'sepal width (cm)': 10,\n",
       "    'petal length (cm)': 10,\n",
       "    'petal width (cm)': 10,\n",
       "    'target': 10},\n",
       "   'mean': {'sepal length (cm)': 5.679999999999999,\n",
       "    'sepal width (cm)': 3.1,\n",
       "    'petal length (cm)': 3.1799999999999997,\n",
       "    'petal width (cm)': 0.97,\n",
       "    'target': 0.7},\n",
       "   'minimum': {'sepal length (cm)': 4.8,\n",
       "    'sepal width (cm)': 2.5,\n",
       "    'petal length (cm)': 1.4,\n",
       "    'petal width (cm)': 0.1,\n",
       "    'target': 0.0},\n",
       "   'maximum': {'sepal length (cm)': 6.5,\n",
       "    'sepal width (cm)': 3.9,\n",
       "    'petal length (cm)': 5.6,\n",
       "    'petal width (cm)': 2.1,\n",
       "    'target': 2.0},\n",
       "   'sum': {'sepal length (cm)': 56.79999999999999,\n",
       "    'sepal width (cm)': 31.0,\n",
       "    'petal length (cm)': 31.799999999999997,\n",
       "    'petal width (cm)': 9.7,\n",
       "    'target': 7.0},\n",
       "   'standard_deviation': {'sepal length (cm)': 0.6779052703405954,\n",
       "    'sepal width (cm)': 0.408248290463863,\n",
       "    'petal length (cm)': 1.8262286579481526,\n",
       "    'petal width (cm)': 0.7557924465236618,\n",
       "    'target': 0.8232726023485646},\n",
       "   'variance': {'sepal length (cm)': 0.4595555555555558,\n",
       "    'sepal width (cm)': 0.16666666666666666,\n",
       "    'petal length (cm)': 3.335111111111111,\n",
       "    'petal width (cm)': 0.5712222222222223,\n",
       "    'target': 0.6777777777777778}}},\n",
       " {'id': '4a7ca49b-ece6-45ac-a9cc-9560ab72cb73',\n",
       "  'created_at': '2023-02-09T14:36:00.531345',\n",
       "  'updated_at': '2023-02-09T14:36:00.531345',\n",
       "  'model_id': '83539c2b-579f-4a2c-b7ba-02d31c9408d8',\n",
       "  'timestamp': '2022-12-23T00:00:00',\n",
       "  'feature_metrics': {'missing_count': {'sepal length (cm)': 0,\n",
       "    'sepal width (cm)': 0,\n",
       "    'petal length (cm)': 0,\n",
       "    'petal width (cm)': 0,\n",
       "    'target': 0},\n",
       "   'non_missing_count': {'sepal length (cm)': 20,\n",
       "    'sepal width (cm)': 20,\n",
       "    'petal length (cm)': 20,\n",
       "    'petal width (cm)': 20,\n",
       "    'target': 20},\n",
       "   'mean': {'sepal length (cm)': 5.819999999999999,\n",
       "    'sepal width (cm)': 3.1050000000000004,\n",
       "    'petal length (cm)': 3.560000000000001,\n",
       "    'petal width (cm)': 1.1300000000000001,\n",
       "    'target': 0.9},\n",
       "   'minimum': {'sepal length (cm)': 4.6,\n",
       "    'sepal width (cm)': 2.5,\n",
       "    'petal length (cm)': 1.4,\n",
       "    'petal width (cm)': 0.1,\n",
       "    'target': 0.0},\n",
       "   'maximum': {'sepal length (cm)': 7.2,\n",
       "    'sepal width (cm)': 3.9,\n",
       "    'petal length (cm)': 6.0,\n",
       "    'petal width (cm)': 2.1,\n",
       "    'target': 2.0},\n",
       "   'sum': {'sepal length (cm)': 116.39999999999999,\n",
       "    'sepal width (cm)': 62.10000000000001,\n",
       "    'petal length (cm)': 71.20000000000002,\n",
       "    'petal width (cm)': 22.6,\n",
       "    'target': 18.0},\n",
       "   'standard_deviation': {'sepal length (cm)': 0.7770389138802578,\n",
       "    'sepal width (cm)': 0.3235900590497018,\n",
       "    'petal length (cm)': 1.7922053453775881,\n",
       "    'petal width (cm)': 0.7664683191173177,\n",
       "    'target': 0.8522416262267904},\n",
       "   'variance': {'sepal length (cm)': 0.6037894736842108,\n",
       "    'sepal width (cm)': 0.10471052631578948,\n",
       "    'petal length (cm)': 3.2119999999999997,\n",
       "    'petal width (cm)': 0.5874736842105264,\n",
       "    'target': 0.7263157894736844}}},\n",
       " {'id': '5a6f6f9f-98c7-4c7b-94ab-8fe6c60a3906',\n",
       "  'created_at': '2023-02-09T14:39:00.626188',\n",
       "  'updated_at': '2023-02-09T14:39:00.626188',\n",
       "  'model_id': '83539c2b-579f-4a2c-b7ba-02d31c9408d8',\n",
       "  'timestamp': '2022-12-24T00:00:00',\n",
       "  'feature_metrics': {'missing_count': {'sepal length (cm)': 0,\n",
       "    'sepal width (cm)': 0,\n",
       "    'petal length (cm)': 0,\n",
       "    'petal width (cm)': 0,\n",
       "    'target': 0},\n",
       "   'non_missing_count': {'sepal length (cm)': 30,\n",
       "    'sepal width (cm)': 30,\n",
       "    'petal length (cm)': 30,\n",
       "    'petal width (cm)': 30,\n",
       "    'target': 30},\n",
       "   'mean': {'sepal length (cm)': 5.876666666666666,\n",
       "    'sepal width (cm)': 3.2199999999999998,\n",
       "    'petal length (cm)': 3.4433333333333334,\n",
       "    'petal width (cm)': 1.0966666666666667,\n",
       "    'target': 0.8333333333333334},\n",
       "   'minimum': {'sepal length (cm)': 4.6,\n",
       "    'sepal width (cm)': 2.5,\n",
       "    'petal length (cm)': 1.2,\n",
       "    'petal width (cm)': 0.1,\n",
       "    'target': 0.0},\n",
       "   'maximum': {'sepal length (cm)': 7.2,\n",
       "    'sepal width (cm)': 4.0,\n",
       "    'petal length (cm)': 6.1,\n",
       "    'petal width (cm)': 2.5,\n",
       "    'target': 2.0},\n",
       "   'sum': {'sepal length (cm)': 176.29999999999998,\n",
       "    'sepal width (cm)': 96.6,\n",
       "    'petal length (cm)': 103.3,\n",
       "    'petal width (cm)': 32.9,\n",
       "    'target': 25.0},\n",
       "   'standard_deviation': {'sepal length (cm)': 0.8041630188708883,\n",
       "    'sepal width (cm)': 0.37268827688047546,\n",
       "    'petal length (cm)': 1.8108263180169955,\n",
       "    'petal width (cm)': 0.7967534699981061,\n",
       "    'target': 0.8339078479367936},\n",
       "   'variance': {'sepal length (cm)': 0.6466781609195406,\n",
       "    'sepal width (cm)': 0.13889655172413795,\n",
       "    'petal length (cm)': 3.2790919540229884,\n",
       "    'petal width (cm)': 0.634816091954023,\n",
       "    'target': 0.6954022988505746}}}]"
      ]
     },
     "execution_count": 98,
     "metadata": {},
     "output_type": "execute_result"
    }
   ],
   "source": [
    "#descriptive_report = wb.get_descriptive_statistics('83539c2b-579f-4a2c-b7ba-02d31c9408d8')\n",
    "#descriptive_report"
   ]
  },
  {
   "cell_type": "code",
   "execution_count": 183,
   "metadata": {},
   "outputs": [
    {
     "data": {
      "text/plain": [
       "<seaborn.axisgrid.FacetGrid at 0x14d5783a0>"
      ]
     },
     "execution_count": 183,
     "metadata": {},
     "output_type": "execute_result"
    },
    {
     "data": {
      "image/png": "[encoded data removed]",
      "text/plain": [
       "<Figure size 1338.79x500 with 1 Axes>"
      ]
     },
     "metadata": {},
     "output_type": "display_data"
    },
    {
     "data": {
      "image/png": "[encoded data removed]",
      "text/plain": [
       "<Figure size 1338.79x500 with 1 Axes>"
      ]
     },
     "metadata": {},
     "output_type": "display_data"
    },
    {
     "data": {
      "image/png": "[encoded data removed]",
      "text/plain": [
       "<Figure size 1338.79x500 with 1 Axes>"
      ]
     },
     "metadata": {},
     "output_type": "display_data"
    }
   ],
   "source": [
    "desriptive_statistics_plot(descriptive_report,0)\n",
    "desriptive_statistics_plot(descriptive_report,1)\n",
    "desriptive_statistics_plot(descriptive_report,2)"
   ]
  },
  {
   "cell_type": "markdown",
   "metadata": {},
   "source": [
    "# Drifting metrics"
   ]
  },
  {
   "cell_type": "code",
   "execution_count": 185,
   "metadata": {},
   "outputs": [
    {
     "data": {
      "text/plain": [
       "[{'id': 'b3381df8-56b4-43f6-aa72-523427b7d723',\n",
       "  'created_at': '2023-02-09T14:33:00.456240',\n",
       "  'updated_at': '2023-02-09T14:33:00.456240',\n",
       "  'model_id': '83539c2b-579f-4a2c-b7ba-02d31c9408d8',\n",
       "  'timestamp': '2022-12-22T00:00:00',\n",
       "  'concept_drift_summary': {'concept_drift_summary': {'column_name': 'target',\n",
       "    'column_type': 'cat',\n",
       "    'stattest_name': 'chi-square p_value',\n",
       "    'drift_score': 0.3896307449384165,\n",
       "    'drift_detected': False,\n",
       "    'stattest_threshold': 0.05},\n",
       "   'column_correlation': {'column_name': 'target',\n",
       "    'current': {},\n",
       "    'reference': {}}},\n",
       "  'data_drift_summary': {'number_of_columns': 4,\n",
       "   'number_of_drifted_columns': 0,\n",
       "   'share_of_drifted_columns': 0.0,\n",
       "   'dataset_drift': False,\n",
       "   'drift_by_columns': {'petal length (cm)': {'column_name': 'petal length (cm)',\n",
       "     'column_type': 'num',\n",
       "     'stattest_name': 'K-S p_value',\n",
       "     'drift_score': 0.7588302830810655,\n",
       "     'drift_detected': False,\n",
       "     'threshold': 0.05},\n",
       "    'petal width (cm)': {'column_name': 'petal width (cm)',\n",
       "     'column_type': 'num',\n",
       "     'stattest_name': 'K-S p_value',\n",
       "     'drift_score': 0.7588302830810655,\n",
       "     'drift_detected': False,\n",
       "     'threshold': 0.05},\n",
       "    'sepal length (cm)': {'column_name': 'sepal length (cm)',\n",
       "     'column_type': 'num',\n",
       "     'stattest_name': 'K-S p_value',\n",
       "     'drift_score': 0.8382225197478262,\n",
       "     'drift_detected': False,\n",
       "     'threshold': 0.05},\n",
       "    'sepal width (cm)': {'column_name': 'sepal width (cm)',\n",
       "     'column_type': 'num',\n",
       "     'stattest_name': 'K-S p_value',\n",
       "     'drift_score': 0.9540265350498883,\n",
       "     'drift_detected': False,\n",
       "     'threshold': 0.05}}}},\n",
       " {'id': '6f74de30-9a5c-4a88-9e02-0a7d8777e242',\n",
       "  'created_at': '2023-02-09T14:36:00.506190',\n",
       "  'updated_at': '2023-02-09T14:36:00.506190',\n",
       "  'model_id': '83539c2b-579f-4a2c-b7ba-02d31c9408d8',\n",
       "  'timestamp': '2022-12-23T00:00:00',\n",
       "  'concept_drift_summary': {'concept_drift_summary': {'column_name': 'target',\n",
       "    'column_type': 'cat',\n",
       "    'stattest_name': 'chi-square p_value',\n",
       "    'drift_score': 0.6738389777139696,\n",
       "    'drift_detected': False,\n",
       "    'stattest_threshold': 0.05},\n",
       "   'column_correlation': {'column_name': 'target',\n",
       "    'current': {},\n",
       "    'reference': {}}},\n",
       "  'data_drift_summary': {'number_of_columns': 4,\n",
       "   'number_of_drifted_columns': 0,\n",
       "   'share_of_drifted_columns': 0.0,\n",
       "   'dataset_drift': False,\n",
       "   'drift_by_columns': {'petal length (cm)': {'column_name': 'petal length (cm)',\n",
       "     'column_type': 'num',\n",
       "     'stattest_name': 'K-S p_value',\n",
       "     'drift_score': 0.9797880018857934,\n",
       "     'drift_detected': False,\n",
       "     'threshold': 0.05},\n",
       "    'petal width (cm)': {'column_name': 'petal width (cm)',\n",
       "     'column_type': 'num',\n",
       "     'stattest_name': 'K-S p_value',\n",
       "     'drift_score': 0.9325945507895383,\n",
       "     'drift_detected': False,\n",
       "     'threshold': 0.05},\n",
       "    'sepal length (cm)': {'column_name': 'sepal length (cm)',\n",
       "     'column_type': 'num',\n",
       "     'stattest_name': 'K-S p_value',\n",
       "     'drift_score': 0.8957682983065736,\n",
       "     'drift_detected': False,\n",
       "     'threshold': 0.05},\n",
       "    'sepal width (cm)': {'column_name': 'sepal width (cm)',\n",
       "     'column_type': 'num',\n",
       "     'stattest_name': 'K-S p_value',\n",
       "     'drift_score': 0.7450045755465691,\n",
       "     'drift_detected': False,\n",
       "     'threshold': 0.05}}}},\n",
       " {'id': '78453a39-faa0-4aa7-bb30-8e4e1b91fef4',\n",
       "  'created_at': '2023-02-09T14:39:00.608156',\n",
       "  'updated_at': '2023-02-09T14:39:00.608156',\n",
       "  'model_id': '83539c2b-579f-4a2c-b7ba-02d31c9408d8',\n",
       "  'timestamp': '2022-12-24T00:00:00',\n",
       "  'concept_drift_summary': {'concept_drift_summary': {'column_name': 'target',\n",
       "    'column_type': 'cat',\n",
       "    'stattest_name': 'chi-square p_value',\n",
       "    'drift_score': 0.32175216781613775,\n",
       "    'drift_detected': False,\n",
       "    'stattest_threshold': 0.05},\n",
       "   'column_correlation': {'column_name': 'target',\n",
       "    'current': {},\n",
       "    'reference': {}}},\n",
       "  'data_drift_summary': {'number_of_columns': 4,\n",
       "   'number_of_drifted_columns': 0,\n",
       "   'share_of_drifted_columns': 0.0,\n",
       "   'dataset_drift': False,\n",
       "   'drift_by_columns': {'petal length (cm)': {'column_name': 'petal length (cm)',\n",
       "     'column_type': 'num',\n",
       "     'stattest_name': 'K-S p_value',\n",
       "     'drift_score': 0.692577574430372,\n",
       "     'drift_detected': False,\n",
       "     'threshold': 0.05},\n",
       "    'petal width (cm)': {'column_name': 'petal width (cm)',\n",
       "     'column_type': 'num',\n",
       "     'stattest_name': 'K-S p_value',\n",
       "     'drift_score': 0.692577574430372,\n",
       "     'drift_detected': False,\n",
       "     'threshold': 0.05},\n",
       "    'sepal length (cm)': {'column_name': 'sepal length (cm)',\n",
       "     'column_type': 'num',\n",
       "     'stattest_name': 'K-S p_value',\n",
       "     'drift_score': 0.8799325977736985,\n",
       "     'drift_detected': False,\n",
       "     'threshold': 0.05},\n",
       "    'sepal width (cm)': {'column_name': 'sepal width (cm)',\n",
       "     'column_type': 'num',\n",
       "     'stattest_name': 'K-S p_value',\n",
       "     'drift_score': 0.1333377862549532,\n",
       "     'drift_detected': False,\n",
       "     'threshold': 0.05}}}}]"
      ]
     },
     "execution_count": 185,
     "metadata": {},
     "output_type": "execute_result"
    }
   ],
   "source": [
    "#drift_report = wb.get_drifting_metrics('83539c2b-579f-4a2c-b7ba-02d31c9408d8')\n",
    "#drift_report"
   ]
  },
  {
   "cell_type": "code",
   "execution_count": null,
   "metadata": {},
   "outputs": [],
   "source": []
  },
  {
   "cell_type": "code",
   "execution_count": null,
   "metadata": {},
   "outputs": [],
   "source": []
  },
  {
   "cell_type": "code",
   "execution_count": null,
   "metadata": {},
   "outputs": [],
   "source": []
  },
  {
   "cell_type": "code",
   "execution_count": null,
   "metadata": {},
   "outputs": [],
   "source": []
  },
  {
   "cell_type": "markdown",
   "metadata": {},
   "source": [
    "# Performance metrics"
   ]
  },
  {
   "cell_type": "code",
   "execution_count": 186,
   "metadata": {},
   "outputs": [
    {
     "data": {
      "text/plain": [
       "[{'id': 'b4bff1cd-76bd-47e6-8446-4ce690096dac',\n",
       "  'created_at': '2023-02-09T14:33:00.473312',\n",
       "  'updated_at': '2023-02-09T14:33:00.473312',\n",
       "  'accuracy': 0.6,\n",
       "  'precision': {'micro': 0.6,\n",
       "   'macro': 0.7333333333333334,\n",
       "   'weighted': 0.9199999999999999},\n",
       "  'recall': {'micro': 0.6, 'macro': 0.7000000000000001, 'weighted': 0.6},\n",
       "  'f1': {'micro': 0.6, 'macro': 0.5833333333333334, 'weighted': 0.675},\n",
       "  'confusion_matrix': {'class0': {'true_negative': 5,\n",
       "    'false_positive': 4,\n",
       "    'false_negative': 0,\n",
       "    'true_positive': 1},\n",
       "   'class1': {'true_negative': 5,\n",
       "    'false_positive': 0,\n",
       "    'false_negative': 2,\n",
       "    'true_positive': 3},\n",
       "   'class2': {'true_negative': 6,\n",
       "    'false_positive': 0,\n",
       "    'false_negative': 2,\n",
       "    'true_positive': 2}},\n",
       "  'model_id': '83539c2b-579f-4a2c-b7ba-02d31c9408d8',\n",
       "  'timestamp': '2022-12-22T00:00:00'},\n",
       " {'id': '0ffa0e1d-8e8a-4658-8443-7405a9cd6fd5',\n",
       "  'created_at': '2023-02-09T14:36:00.522083',\n",
       "  'updated_at': '2023-02-09T14:36:00.522083',\n",
       "  'accuracy': 0.45,\n",
       "  'precision': {'micro': 0.45,\n",
       "   'macro': 0.48611111111111116,\n",
       "   'weighted': 0.6125},\n",
       "  'recall': {'micro': 0.45, 'macro': 0.46296296296296297, 'weighted': 0.45},\n",
       "  'f1': {'micro': 0.45,\n",
       "   'macro': 0.4222222222222222,\n",
       "   'weighted': 0.5000000000000001},\n",
       "  'confusion_matrix': {'class0': {'true_negative': 11,\n",
       "    'false_positive': 7,\n",
       "    'false_negative': 1,\n",
       "    'true_positive': 1},\n",
       "   'class1': {'true_negative': 10,\n",
       "    'false_positive': 1,\n",
       "    'false_negative': 4,\n",
       "    'true_positive': 5},\n",
       "   'class2': {'true_negative': 8,\n",
       "    'false_positive': 3,\n",
       "    'false_negative': 6,\n",
       "    'true_positive': 3}},\n",
       "  'model_id': '83539c2b-579f-4a2c-b7ba-02d31c9408d8',\n",
       "  'timestamp': '2022-12-23T00:00:00'},\n",
       " {'id': 'ca19193b-5c9b-478b-93a7-48c7b08af306',\n",
       "  'created_at': '2023-02-09T14:39:00.618561',\n",
       "  'updated_at': '2023-02-09T14:39:00.618561',\n",
       "  'accuracy': 0.43333333333333335,\n",
       "  'precision': {'micro': 0.43333333333333335,\n",
       "   'macro': 0.48860398860398857,\n",
       "   'weighted': 0.6921652421652421},\n",
       "  'recall': {'micro': 0.43333333333333335,\n",
       "   'macro': 0.4447415329768271,\n",
       "   'weighted': 0.43333333333333335},\n",
       "  'f1': {'micro': 0.43333333333333335,\n",
       "   'macro': 0.389923526765632,\n",
       "   'weighted': 0.5119928025191183},\n",
       "  'confusion_matrix': {'class0': {'true_negative': 16,\n",
       "    'false_positive': 12,\n",
       "    'false_negative': 1,\n",
       "    'true_positive': 1},\n",
       "   'class1': {'true_negative': 12,\n",
       "    'false_positive': 1,\n",
       "    'false_negative': 9,\n",
       "    'true_positive': 8},\n",
       "   'class2': {'true_negative': 15,\n",
       "    'false_positive': 4,\n",
       "    'false_negative': 7,\n",
       "    'true_positive': 4}},\n",
       "  'model_id': '83539c2b-579f-4a2c-b7ba-02d31c9408d8',\n",
       "  'timestamp': '2022-12-24T00:00:00'}]"
      ]
     },
     "execution_count": 186,
     "metadata": {},
     "output_type": "execute_result"
    }
   ],
   "source": [
    "#performance_report = wb.get_performance_metrics('83539c2b-579f-4a2c-b7ba-02d31c9408d8')\n",
    "#performance_report"
   ]
  },
  {
   "cell_type": "code",
   "execution_count": null,
   "metadata": {},
   "outputs": [],
   "source": []
  },
  {
   "cell_type": "code",
   "execution_count": null,
   "metadata": {},
   "outputs": [],
   "source": []
  },
  {
   "cell_type": "code",
   "execution_count": null,
   "metadata": {},
   "outputs": [],
   "source": []
  },
  {
   "cell_type": "code",
   "execution_count": null,
   "metadata": {},
   "outputs": [],
   "source": []
  },
  {
   "cell_type": "markdown",
   "metadata": {},
   "source": [
    "# XAI"
   ]
  },
  {
   "cell_type": "code",
   "execution_count": 75,
   "metadata": {},
   "outputs": [],
   "source": [
    "xai1 = wb.get_xai_row(\"5e7b7c5f-ad22-434d-97f2-5fc337e18652\")\n",
    "xai2 = wb.get_xai_row(\"1d530810-6305-47c1-94fb-2c220b75de22\")\n",
    "xai3 = wb.get_xai_row(\"eea71062-bbcc-4bf7-afd0-a74445e29fe8\")"
   ]
  },
  {
   "cell_type": "code",
   "execution_count": 76,
   "metadata": {},
   "outputs": [
    {
     "data": {
      "text/plain": [
       "{'petal length (cm)': -0.3655865878574561,\n",
       " 'petal width (cm)': 0.2930264801775198,\n",
       " 'sepal width (cm)': -0.0613901196998769,\n",
       " 'sepal length (cm)': 0.00817411441223634}"
      ]
     },
     "execution_count": 76,
     "metadata": {},
     "output_type": "execute_result"
    }
   ],
   "source": [
    "xai1"
   ]
  },
  {
   "cell_type": "code",
   "execution_count": 77,
   "metadata": {},
   "outputs": [
    {
     "data": {
      "text/plain": [
       "{'petal length (cm)': -0.36642992068168223,\n",
       " 'sepal width (cm)': -0.02670817184574049,\n",
       " 'petal width (cm)': 0.024446452319809565,\n",
       " 'sepal length (cm)': 0.006533247074591248}"
      ]
     },
     "execution_count": 77,
     "metadata": {},
     "output_type": "execute_result"
    }
   ],
   "source": [
    "xai2"
   ]
  },
  {
   "cell_type": "code",
   "execution_count": 78,
   "metadata": {},
   "outputs": [
    {
     "data": {
      "text/plain": [
       "{'petal length (cm)': 0.2504030752277958,\n",
       " 'petal width (cm)': -0.060684870258653496,\n",
       " 'sepal width (cm)': -0.02022202057162284,\n",
       " 'sepal length (cm)': 0.01005262567815375}"
      ]
     },
     "execution_count": 78,
     "metadata": {},
     "output_type": "execute_result"
    }
   ],
   "source": [
    "xai3"
   ]
  },
  {
   "cell_type": "code",
   "execution_count": 59,
   "metadata": {},
   "outputs": [
    {
     "data": {
      "text/plain": [
       "True"
      ]
     },
     "execution_count": 59,
     "metadata": {},
     "output_type": "execute_result"
    }
   ],
   "source": [
    "#wb.delete_model('f96e93bd-80fb-4b44-834d-6ffc5a737fbc')"
   ]
  }
 ],
 "metadata": {
  "kernelspec": {
   "display_name": "Python 3.10.8 (conda)",
   "language": "python",
   "name": "python3"
  },
  "language_info": {
   "codemirror_mode": {
    "name": "ipython",
    "version": 3
   },
   "file_extension": ".py",
   "mimetype": "text/x-python",
   "name": "python",
   "nbconvert_exporter": "python",
   "pygments_lexer": "ipython3",
   "version": "3.10.8"
  },
  "orig_nbformat": 4,
  "vscode": {
   "interpreter": {
    "hash": "4de3d24b14351dd1d776fcd4034cd3e8d8527433466e9293dd76189fddd35128"
   }
  }
 },
 "nbformat": 4,
 "nbformat_minor": 2
}
