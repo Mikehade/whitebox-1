{
 "cells": [
  {
   "attachments": {},
   "cell_type": "markdown",
   "metadata": {},
   "source": [
    "# Use of Whitebox SDK\n",
    "\n",
    "First of all we need to import the Whitebox class:"
   ]
  },
  {
   "cell_type": "code",
   "execution_count": null,
   "metadata": {},
   "outputs": [],
   "source": [
    "from whitebox import Whitebox"
   ]
  },
  {
   "attachments": {},
   "cell_type": "markdown",
   "metadata": {},
   "source": [
    "Now we create an instance of the Whitebox class adding the host and API key as parameters:"
   ]
  },
  {
   "cell_type": "code",
   "execution_count": 4,
   "metadata": {},
   "outputs": [],
   "source": [
    "wb = Whitebox(host=\"http://127.0.0.1:8000\", api_key=\"69ca68d71f804cbb00ef6c741768769f2b7bdf6bc43aec1a55d0386709e51a8e\")"
   ]
  },
  {
   "attachments": {},
   "cell_type": "markdown",
   "metadata": {},
   "source": [
    "In order to start adding training datasets and inferences, you first need to create a model.\n",
    "\n",
    "Let's create a sample model. When the model is created successfully, the `Model` object that was added into the database is returned."
   ]
  },
  {
   "cell_type": "code",
   "execution_count": 5,
   "metadata": {},
   "outputs": [
    {
     "data": {
      "text/plain": [
       "{'id': 'dae9007d-894f-4f19-9772-7b7048a86347',\n",
       " 'created_at': '2023-02-24T14:11:36.400473',\n",
       " 'updated_at': '2023-02-24T14:11:36.400473',\n",
       " 'name': 'Model 1',\n",
       " 'description': '',\n",
       " 'type': 'binary',\n",
       " 'target_column': 'y_prediction_multi',\n",
       " 'labels': {'additionalProp1': 0, 'additionalProp2': 1}}"
      ]
     },
     "execution_count": 5,
     "metadata": {},
     "output_type": "execute_result"
    }
   ],
   "source": [
    "wb.create_model(name=\"Model 1\", type=\"binary\", labels={'additionalProp1': 0, 'additionalProp2': 1}, target_column=\"y_prediction_multi\")"
   ]
  },
  {
   "attachments": {},
   "cell_type": "markdown",
   "metadata": {},
   "source": [
    "In order to fetch a model from the database we'll need the `model_id`. If the `model_id` exists, a `Model` object will be returned. Otherwise you'll get nothing!"
   ]
  },
  {
   "cell_type": "code",
   "execution_count": 6,
   "metadata": {},
   "outputs": [
    {
     "data": {
      "text/plain": [
       "{'id': 'dae9007d-894f-4f19-9772-7b7048a86347',\n",
       " 'created_at': '2023-02-24T14:11:36.400473',\n",
       " 'updated_at': '2023-02-24T14:11:36.400473',\n",
       " 'name': 'Model 1',\n",
       " 'description': '',\n",
       " 'type': 'binary',\n",
       " 'target_column': 'y_prediction_multi',\n",
       " 'labels': {'additionalProp1': 0, 'additionalProp2': 1}}"
      ]
     },
     "execution_count": 6,
     "metadata": {},
     "output_type": "execute_result"
    }
   ],
   "source": [
    "wb.get_model(\"dae9007d-894f-4f19-9772-7b7048a86347\")"
   ]
  },
  {
   "attachments": {},
   "cell_type": "markdown",
   "metadata": {},
   "source": [
    "Once you have created a model you can start loading your data. Let's start with the training dataset!\n",
    "\n",
    "In our example we will create a pd.DataFrame from a .csv file. Of course you can use any method you like to create your pd.DataFrame as long as your non-processed and processed datasets have the same amount of rows (a.k.a. the same length) and there are more than one rows!\n",
    "\n",
    "If the training data is successfully saved, `True` will be returned, otherwise `False`."
   ]
  },
  {
   "cell_type": "code",
   "execution_count": 11,
   "metadata": {},
   "outputs": [
    {
     "data": {
      "text/plain": [
       "True"
      ]
     },
     "execution_count": 11,
     "metadata": {},
     "output_type": "execute_result"
    }
   ],
   "source": [
    "import pandas as pd\n",
    "df = pd.read_csv(\"whitebox/analytics/data/testing/classification_test_data.csv\")\n",
    "\n",
    "wb.log_training_dataset(model_id=\"dae9007d-894f-4f19-9772-7b7048a86347\", processed=df, non_processed=df)"
   ]
  },
  {
   "attachments": {},
   "cell_type": "markdown",
   "metadata": {},
   "source": [
    "To load your inferences you have to follow the exact same procedure as with the training datasets. The only difference is that you need to provide a `pd.Series` with the timestamps and (optionally) a `pd.Series` with the actuals, whose indices should match the ones in the non-processed and processed `pd.DataFrames`.\n",
    "\n",
    "If the inferences are successfully saved, `True` will be returned, otherwise `False`."
   ]
  },
  {
   "cell_type": "code",
   "execution_count": 12,
   "metadata": {},
   "outputs": [
    {
     "data": {
      "text/plain": [
       "True"
      ]
     },
     "execution_count": 12,
     "metadata": {},
     "output_type": "execute_result"
    }
   ],
   "source": [
    "import pandas as pd\n",
    "from whitebox.tests.v1.mock_data import timestamps, mixed_actuals\n",
    "df = pd.read_csv(\"whitebox/analytics/data/testing/classification_test_data.csv\")\n",
    "\n",
    "\n",
    "wb.log_inferences(model_id=\"dae9007d-894f-4f19-9772-7b7048a86347\", processed=df, non_processed=df, timestamps=timestamps, actuals=mixed_actuals)"
   ]
  },
  {
   "attachments": {},
   "cell_type": "markdown",
   "metadata": {},
   "source": [
    "You can create a monitor in whitebox so that alert are created automaticaly when some value is out of bounds:"
   ]
  },
  {
   "cell_type": "code",
   "execution_count": null,
   "metadata": {},
   "outputs": [],
   "source": [
    "from whitebox import Whitebox\n",
    "\n",
    "wb = Whitebox(host=\"127.0.0.1:8000\", api_key=\"some_api_key\")\n",
    "\n",
    "model_monitor = wb.create_model_monitor(\n",
    "    model_id=\"mock_model_id\",\n",
    "    name=\"test\",\n",
    "    status=\"active\",\n",
    "    metric=\"accuracy\",\n",
    "    severity=\"high\",\n",
    "    email=\"jackie.chan@somemail.io\",\n",
    "    lower_threshold=0.7\n",
    ")"
   ]
  },
  {
   "attachments": {},
   "cell_type": "markdown",
   "metadata": {},
   "source": [
    "In order to delete a model you hae to provide the `model_id`.\n",
    "\n",
    "If the model is successfully deleted, `True` will be returned, otherwise `False`."
   ]
  },
  {
   "cell_type": "code",
   "execution_count": 13,
   "metadata": {},
   "outputs": [
    {
     "data": {
      "text/plain": [
       "True"
      ]
     },
     "execution_count": 13,
     "metadata": {},
     "output_type": "execute_result"
    }
   ],
   "source": [
    "wb.delete_model(\"dae9007d-894f-4f19-9772-7b7048a86347\")"
   ]
  }
 ],
 "metadata": {
  "kernelspec": {
   "display_name": "Python 3.10.8",
   "language": "python",
   "name": "python3"
  },
  "language_info": {
   "codemirror_mode": {
    "name": "ipython",
    "version": 3
   },
   "file_extension": ".py",
   "mimetype": "text/x-python",
   "name": "python",
   "nbconvert_exporter": "python",
   "pygments_lexer": "ipython3",
   "version": "3.10.8"
  },
  "orig_nbformat": 4,
  "vscode": {
   "interpreter": {
    "hash": "4de3d24b14351dd1d776fcd4034cd3e8d8527433466e9293dd76189fddd35128"
   }
  }
 },
 "nbformat": 4,
 "nbformat_minor": 2
}
