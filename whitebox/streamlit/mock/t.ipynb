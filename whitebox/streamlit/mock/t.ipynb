{
 "cells": [
  {
   "cell_type": "code",
   "execution_count": 23,
   "metadata": {},
   "outputs": [],
   "source": [
    "a = [\n",
    "    {\n",
    "        \"id\": 1,\n",
    "        \"model_id\": \"model_test\",\n",
    "        \"name\": \"my_custom_metric\",\n",
    "        \"status\": \"active\",\n",
    "        \"metric\": \"accuracy\",\n",
    "        \"severity\": \"low\",\n",
    "        \"email\": \"test@squaredev.io\",\n",
    "        \"lower_threshold\": 0.7\n",
    "    },\n",
    "    {\"id\": 2,\n",
    "        \"model_id\": \"model_test\",\n",
    "        \"name\": \"my_custom_metric\",\n",
    "        \"status\": \"active\",\n",
    "        \"metric\": \"data_drift\",\n",
    "        \"severity\": \"low\",\n",
    "        \"email\": \"test@squaredev.io\",\n",
    "        \"lower_threshold\": 0.5\n",
    "    }\n",
    "]"
   ]
  },
  {
   "cell_type": "code",
   "execution_count": 24,
   "metadata": {},
   "outputs": [],
   "source": [
    "import pandas as pd\n",
    "mo = pd.DataFrame(a)"
   ]
  },
  {
   "cell_type": "code",
   "execution_count": 25,
   "metadata": {},
   "outputs": [],
   "source": [
    "al = [\n",
    "    {\n",
    "        \"id\": 44,\n",
    "        \"model_monitor_id\": 1,\n",
    "        \"timestamp\": \"2023-03-14\",\n",
    "        \"description\": \"fell below the threshold\"\n",
    "    },\n",
    "    {\n",
    "        \"id\": 45,\n",
    "        \"model_monitor_id\": 1,\n",
    "        \"timestamp\": \"2023-03-16\",\n",
    "        \"description\": \"fell below the threshold\"\n",
    "    }\n",
    "]"
   ]
  },
  {
   "cell_type": "code",
   "execution_count": 26,
   "metadata": {},
   "outputs": [
    {
     "data": {
      "text/html": [
       "<div>\n",
       "<style scoped>\n",
       "    .dataframe tbody tr th:only-of-type {\n",
       "        vertical-align: middle;\n",
       "    }\n",
       "\n",
       "    .dataframe tbody tr th {\n",
       "        vertical-align: top;\n",
       "    }\n",
       "\n",
       "    .dataframe thead th {\n",
       "        text-align: right;\n",
       "    }\n",
       "</style>\n",
       "<table border=\"1\" class=\"dataframe\">\n",
       "  <thead>\n",
       "    <tr style=\"text-align: right;\">\n",
       "      <th></th>\n",
       "      <th>id</th>\n",
       "      <th>model_monitor_id</th>\n",
       "      <th>timestamp</th>\n",
       "      <th>description</th>\n",
       "    </tr>\n",
       "  </thead>\n",
       "  <tbody>\n",
       "    <tr>\n",
       "      <th>0</th>\n",
       "      <td>44</td>\n",
       "      <td>1</td>\n",
       "      <td>2023-03-14</td>\n",
       "      <td>fell below the threshold</td>\n",
       "    </tr>\n",
       "    <tr>\n",
       "      <th>1</th>\n",
       "      <td>45</td>\n",
       "      <td>1</td>\n",
       "      <td>2023-03-16</td>\n",
       "      <td>fell below the threshold</td>\n",
       "    </tr>\n",
       "  </tbody>\n",
       "</table>\n",
       "</div>"
      ],
      "text/plain": [
       "   id  model_monitor_id  timestamp               description\n",
       "0  44                 1 2023-03-14  fell below the threshold\n",
       "1  45                 1 2023-03-16  fell below the threshold"
      ]
     },
     "execution_count": 26,
     "metadata": {},
     "output_type": "execute_result"
    }
   ],
   "source": [
    "import pandas as pd\n",
    "df = pd.DataFrame(al)\n",
    "df[\"timestamp\"] = pd.to_datetime(df[\"timestamp\"])\n",
    "df"
   ]
  },
  {
   "cell_type": "code",
   "execution_count": 27,
   "metadata": {},
   "outputs": [],
   "source": [
    "def get_recent_alert(alerts_df, timestamp_column):\n",
    "    '''\n",
    "    Function that gets alerts dataframe and results on the \n",
    "    most recent alert row for each unique id\n",
    "    '''\n",
    "    # sort the dataframe by 'date' column in descending order\n",
    "    alerts_df = alerts_df.sort_values(by=timestamp_column, ascending=False)\n",
    "    # drop duplicates based on 'id' column, keeping only the first occurrence (most recent date)\n",
    "    alerts_df = alerts_df.drop_duplicates(subset='model_monitor_id', keep='first')\n",
    "\n",
    "    return alerts_df"
   ]
  },
  {
   "cell_type": "code",
   "execution_count": 28,
   "metadata": {},
   "outputs": [],
   "source": [
    "al = get_recent_alert(df, \"timestamp\")"
   ]
  },
  {
   "cell_type": "code",
   "execution_count": 29,
   "metadata": {},
   "outputs": [
    {
     "data": {
      "text/html": [
       "<div>\n",
       "<style scoped>\n",
       "    .dataframe tbody tr th:only-of-type {\n",
       "        vertical-align: middle;\n",
       "    }\n",
       "\n",
       "    .dataframe tbody tr th {\n",
       "        vertical-align: top;\n",
       "    }\n",
       "\n",
       "    .dataframe thead th {\n",
       "        text-align: right;\n",
       "    }\n",
       "</style>\n",
       "<table border=\"1\" class=\"dataframe\">\n",
       "  <thead>\n",
       "    <tr style=\"text-align: right;\">\n",
       "      <th></th>\n",
       "      <th>id</th>\n",
       "      <th>model_monitor_id</th>\n",
       "      <th>timestamp</th>\n",
       "      <th>description</th>\n",
       "    </tr>\n",
       "  </thead>\n",
       "  <tbody>\n",
       "    <tr>\n",
       "      <th>1</th>\n",
       "      <td>45</td>\n",
       "      <td>1</td>\n",
       "      <td>2023-03-16</td>\n",
       "      <td>fell below the threshold</td>\n",
       "    </tr>\n",
       "  </tbody>\n",
       "</table>\n",
       "</div>"
      ],
      "text/plain": [
       "   id  model_monitor_id  timestamp               description\n",
       "1  45                 1 2023-03-16  fell below the threshold"
      ]
     },
     "execution_count": 29,
     "metadata": {},
     "output_type": "execute_result"
    }
   ],
   "source": [
    "al"
   ]
  },
  {
   "cell_type": "code",
   "execution_count": 31,
   "metadata": {},
   "outputs": [
    {
     "data": {
      "text/html": [
       "<div>\n",
       "<style scoped>\n",
       "    .dataframe tbody tr th:only-of-type {\n",
       "        vertical-align: middle;\n",
       "    }\n",
       "\n",
       "    .dataframe tbody tr th {\n",
       "        vertical-align: top;\n",
       "    }\n",
       "\n",
       "    .dataframe thead th {\n",
       "        text-align: right;\n",
       "    }\n",
       "</style>\n",
       "<table border=\"1\" class=\"dataframe\">\n",
       "  <thead>\n",
       "    <tr style=\"text-align: right;\">\n",
       "      <th></th>\n",
       "      <th>id</th>\n",
       "      <th>model_id</th>\n",
       "      <th>name</th>\n",
       "      <th>status</th>\n",
       "      <th>metric</th>\n",
       "      <th>severity</th>\n",
       "      <th>email</th>\n",
       "      <th>lower_threshold</th>\n",
       "    </tr>\n",
       "  </thead>\n",
       "  <tbody>\n",
       "    <tr>\n",
       "      <th>0</th>\n",
       "      <td>1</td>\n",
       "      <td>model_test</td>\n",
       "      <td>my_custom_metric</td>\n",
       "      <td>active</td>\n",
       "      <td>accuracy</td>\n",
       "      <td>low</td>\n",
       "      <td>test@squaredev.io</td>\n",
       "      <td>0.7</td>\n",
       "    </tr>\n",
       "    <tr>\n",
       "      <th>1</th>\n",
       "      <td>2</td>\n",
       "      <td>model_test</td>\n",
       "      <td>my_custom_metric</td>\n",
       "      <td>active</td>\n",
       "      <td>data_drift</td>\n",
       "      <td>low</td>\n",
       "      <td>test@squaredev.io</td>\n",
       "      <td>0.5</td>\n",
       "    </tr>\n",
       "  </tbody>\n",
       "</table>\n",
       "</div>"
      ],
      "text/plain": [
       "   id    model_id              name  status      metric severity  \\\n",
       "0   1  model_test  my_custom_metric  active    accuracy      low   \n",
       "1   2  model_test  my_custom_metric  active  data_drift      low   \n",
       "\n",
       "               email  lower_threshold  \n",
       "0  test@squaredev.io              0.7  \n",
       "1  test@squaredev.io              0.5  "
      ]
     },
     "execution_count": 31,
     "metadata": {},
     "output_type": "execute_result"
    }
   ],
   "source": [
    "mo"
   ]
  },
  {
   "cell_type": "code",
   "execution_count": 33,
   "metadata": {},
   "outputs": [
    {
     "data": {
      "text/html": [
       "<div>\n",
       "<style scoped>\n",
       "    .dataframe tbody tr th:only-of-type {\n",
       "        vertical-align: middle;\n",
       "    }\n",
       "\n",
       "    .dataframe tbody tr th {\n",
       "        vertical-align: top;\n",
       "    }\n",
       "\n",
       "    .dataframe thead th {\n",
       "        text-align: right;\n",
       "    }\n",
       "</style>\n",
       "<table border=\"1\" class=\"dataframe\">\n",
       "  <thead>\n",
       "    <tr style=\"text-align: right;\">\n",
       "      <th></th>\n",
       "      <th>id</th>\n",
       "      <th>model_id</th>\n",
       "      <th>name</th>\n",
       "      <th>status</th>\n",
       "      <th>metric</th>\n",
       "      <th>severity</th>\n",
       "      <th>email</th>\n",
       "      <th>lower_threshold</th>\n",
       "      <th>model_monitor_id</th>\n",
       "      <th>timestamp</th>\n",
       "      <th>description</th>\n",
       "    </tr>\n",
       "  </thead>\n",
       "  <tbody>\n",
       "    <tr>\n",
       "      <th>0</th>\n",
       "      <td>1</td>\n",
       "      <td>model_test</td>\n",
       "      <td>my_custom_metric</td>\n",
       "      <td>active</td>\n",
       "      <td>accuracy</td>\n",
       "      <td>low</td>\n",
       "      <td>test@squaredev.io</td>\n",
       "      <td>0.7</td>\n",
       "      <td>1</td>\n",
       "      <td>2023-03-16</td>\n",
       "      <td>fell below the threshold</td>\n",
       "    </tr>\n",
       "  </tbody>\n",
       "</table>\n",
       "</div>"
      ],
      "text/plain": [
       "   id    model_id              name  status    metric severity  \\\n",
       "0   1  model_test  my_custom_metric  active  accuracy      low   \n",
       "\n",
       "               email  lower_threshold  model_monitor_id  timestamp  \\\n",
       "0  test@squaredev.io              0.7                 1 2023-03-16   \n",
       "\n",
       "                description  \n",
       "0  fell below the threshold  "
      ]
     },
     "execution_count": 33,
     "metadata": {},
     "output_type": "execute_result"
    }
   ],
   "source": [
    "merged_df = pd.merge(mo, al[[\"model_monitor_id\", \"timestamp\", \"description\"]], left_on='id', right_on=\"model_monitor_id\")\n",
    "merged_df"
   ]
  },
  {
   "cell_type": "code",
   "execution_count": 40,
   "metadata": {},
   "outputs": [
    {
     "data": {
      "text/plain": [
       "['my_custom_metric']"
      ]
     },
     "execution_count": 40,
     "metadata": {},
     "output_type": "execute_result"
    }
   ],
   "source": [
    "merged_df[\"name\"].values.tolist()"
   ]
  },
  {
   "cell_type": "code",
   "execution_count": null,
   "metadata": {},
   "outputs": [],
   "source": []
  }
 ],
 "metadata": {
  "kernelspec": {
   "display_name": ".venv",
   "language": "python",
   "name": "python3"
  },
  "language_info": {
   "codemirror_mode": {
    "name": "ipython",
    "version": 3
   },
   "file_extension": ".py",
   "mimetype": "text/x-python",
   "name": "python",
   "nbconvert_exporter": "python",
   "pygments_lexer": "ipython3",
   "version": "3.8.6"
  },
  "orig_nbformat": 4,
  "vscode": {
   "interpreter": {
    "hash": "6b8a8ae524dcca06b04542d2d49be160be0f11dd19d43d7b2673d555344c6092"
   }
  }
 },
 "nbformat": 4,
 "nbformat_minor": 2
}
